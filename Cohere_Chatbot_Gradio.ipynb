{
  "cells": [
    {
      "cell_type": "code",
      "execution_count": null,
      "metadata": {
        "colab": {
          "base_uri": "https://localhost:8080/"
        },
        "id": "8VD9N_PQy6H3",
        "outputId": "44585c2d-71c5-46ea-b45c-1350246a215a"
      },
      "outputs": [
        {
          "name": "stdout",
          "output_type": "stream",
          "text": [
            "Requirement already satisfied: cohere in /usr/local/lib/python3.10/dist-packages (5.8.1)\n",
            "Requirement already satisfied: gradio in /usr/local/lib/python3.10/dist-packages (4.42.0)\n",
            "Requirement already satisfied: PyMuPDF in /usr/local/lib/python3.10/dist-packages (1.24.9)\n",
            "Requirement already satisfied: langchain_community in /usr/local/lib/python3.10/dist-packages (0.2.12)\n",
            "Requirement already satisfied: hnswlib in /usr/local/lib/python3.10/dist-packages (0.8.0)\n",
            "Requirement already satisfied: pypdf in /usr/local/lib/python3.10/dist-packages (4.3.1)\n",
            "Requirement already satisfied: langchain in /usr/local/lib/python3.10/dist-packages (0.2.14)\n",
            "Requirement already satisfied: boto3<2.0.0,>=1.34.0 in /usr/local/lib/python3.10/dist-packages (from cohere) (1.35.3)\n",
            "Requirement already satisfied: fastavro<2.0.0,>=1.9.4 in /usr/local/lib/python3.10/dist-packages (from cohere) (1.9.5)\n",
            "Requirement already satisfied: httpx>=0.21.2 in /usr/local/lib/python3.10/dist-packages (from cohere) (0.27.0)\n",
            "Requirement already satisfied: httpx-sse==0.4.0 in /usr/local/lib/python3.10/dist-packages (from cohere) (0.4.0)\n",
            "Requirement already satisfied: parameterized<0.10.0,>=0.9.0 in /usr/local/lib/python3.10/dist-packages (from cohere) (0.9.0)\n",
            "Requirement already satisfied: pydantic>=1.9.2 in /usr/local/lib/python3.10/dist-packages (from cohere) (2.8.2)\n",
            "Requirement already satisfied: pydantic-core<3.0.0,>=2.18.2 in /usr/local/lib/python3.10/dist-packages (from cohere) (2.20.1)\n",
            "Requirement already satisfied: requests<3.0.0,>=2.0.0 in /usr/local/lib/python3.10/dist-packages (from cohere) (2.32.3)\n",
            "Requirement already satisfied: tokenizers<1,>=0.15 in /usr/local/lib/python3.10/dist-packages (from cohere) (0.19.1)\n",
            "Requirement already satisfied: types-requests<3.0.0,>=2.0.0 in /usr/local/lib/python3.10/dist-packages (from cohere) (2.32.0.20240712)\n",
            "Requirement already satisfied: typing_extensions>=4.0.0 in /usr/local/lib/python3.10/dist-packages (from cohere) (4.12.2)\n",
            "Requirement already satisfied: aiofiles<24.0,>=22.0 in /usr/local/lib/python3.10/dist-packages (from gradio) (23.2.1)\n",
            "Requirement already satisfied: anyio<5.0,>=3.0 in /usr/local/lib/python3.10/dist-packages (from gradio) (3.7.1)\n",
            "Requirement already satisfied: fastapi in /usr/local/lib/python3.10/dist-packages (from gradio) (0.112.1)\n",
            "Requirement already satisfied: ffmpy in /usr/local/lib/python3.10/dist-packages (from gradio) (0.4.0)\n",
            "Requirement already satisfied: gradio-client==1.3.0 in /usr/local/lib/python3.10/dist-packages (from gradio) (1.3.0)\n",
            "Requirement already satisfied: huggingface-hub>=0.19.3 in /usr/local/lib/python3.10/dist-packages (from gradio) (0.23.5)\n",
            "Requirement already satisfied: importlib-resources<7.0,>=1.3 in /usr/local/lib/python3.10/dist-packages (from gradio) (6.4.2)\n",
            "Requirement already satisfied: jinja2<4.0 in /usr/local/lib/python3.10/dist-packages (from gradio) (3.1.4)\n",
            "Requirement already satisfied: markupsafe~=2.0 in /usr/local/lib/python3.10/dist-packages (from gradio) (2.1.5)\n",
            "Requirement already satisfied: matplotlib~=3.0 in /usr/local/lib/python3.10/dist-packages (from gradio) (3.7.1)\n",
            "Requirement already satisfied: numpy<3.0,>=1.0 in /usr/local/lib/python3.10/dist-packages (from gradio) (1.26.4)\n",
            "Requirement already satisfied: orjson~=3.0 in /usr/local/lib/python3.10/dist-packages (from gradio) (3.10.7)\n",
            "Requirement already satisfied: packaging in /usr/local/lib/python3.10/dist-packages (from gradio) (24.1)\n",
            "Requirement already satisfied: pandas<3.0,>=1.0 in /usr/local/lib/python3.10/dist-packages (from gradio) (2.1.4)\n",
            "Requirement already satisfied: pillow<11.0,>=8.0 in /usr/local/lib/python3.10/dist-packages (from gradio) (9.4.0)\n",
            "Requirement already satisfied: pydub in /usr/local/lib/python3.10/dist-packages (from gradio) (0.25.1)\n",
            "Requirement already satisfied: python-multipart>=0.0.9 in /usr/local/lib/python3.10/dist-packages (from gradio) (0.0.9)\n",
            "Requirement already satisfied: pyyaml<7.0,>=5.0 in /usr/local/lib/python3.10/dist-packages (from gradio) (6.0.2)\n",
            "Requirement already satisfied: ruff>=0.2.2 in /usr/local/lib/python3.10/dist-packages (from gradio) (0.6.1)\n",
            "Requirement already satisfied: semantic-version~=2.0 in /usr/local/lib/python3.10/dist-packages (from gradio) (2.10.0)\n",
            "Requirement already satisfied: tomlkit==0.12.0 in /usr/local/lib/python3.10/dist-packages (from gradio) (0.12.0)\n",
            "Requirement already satisfied: typer<1.0,>=0.12 in /usr/local/lib/python3.10/dist-packages (from gradio) (0.12.3)\n",
            "Requirement already satisfied: urllib3~=2.0 in /usr/local/lib/python3.10/dist-packages (from gradio) (2.0.7)\n",
            "Requirement already satisfied: uvicorn>=0.14.0 in /usr/local/lib/python3.10/dist-packages (from gradio) (0.30.6)\n",
            "Requirement already satisfied: fsspec in /usr/local/lib/python3.10/dist-packages (from gradio-client==1.3.0->gradio) (2024.6.1)\n",
            "Requirement already satisfied: websockets<13.0,>=10.0 in /usr/local/lib/python3.10/dist-packages (from gradio-client==1.3.0->gradio) (12.0)\n",
            "Requirement already satisfied: PyMuPDFb==1.24.9 in /usr/local/lib/python3.10/dist-packages (from PyMuPDF) (1.24.9)\n",
            "Requirement already satisfied: SQLAlchemy<3,>=1.4 in /usr/local/lib/python3.10/dist-packages (from langchain_community) (2.0.32)\n",
            "Requirement already satisfied: aiohttp<4.0.0,>=3.8.3 in /usr/local/lib/python3.10/dist-packages (from langchain_community) (3.10.3)\n",
            "Requirement already satisfied: dataclasses-json<0.7,>=0.5.7 in /usr/local/lib/python3.10/dist-packages (from langchain_community) (0.6.7)\n",
            "Requirement already satisfied: langchain-core<0.3.0,>=0.2.30 in /usr/local/lib/python3.10/dist-packages (from langchain_community) (0.2.34)\n",
            "Requirement already satisfied: langsmith<0.2.0,>=0.1.0 in /usr/local/lib/python3.10/dist-packages (from langchain_community) (0.1.101)\n",
            "Requirement already satisfied: tenacity!=8.4.0,<9.0.0,>=8.1.0 in /usr/local/lib/python3.10/dist-packages (from langchain_community) (8.5.0)\n",
            "Requirement already satisfied: async-timeout<5.0.0,>=4.0.0 in /usr/local/lib/python3.10/dist-packages (from langchain) (4.0.3)\n",
            "Requirement already satisfied: langchain-text-splitters<0.3.0,>=0.2.0 in /usr/local/lib/python3.10/dist-packages (from langchain) (0.2.2)\n",
            "Requirement already satisfied: aiohappyeyeballs>=2.3.0 in /usr/local/lib/python3.10/dist-packages (from aiohttp<4.0.0,>=3.8.3->langchain_community) (2.3.5)\n",
            "Requirement already satisfied: aiosignal>=1.1.2 in /usr/local/lib/python3.10/dist-packages (from aiohttp<4.0.0,>=3.8.3->langchain_community) (1.3.1)\n",
            "Requirement already satisfied: attrs>=17.3.0 in /usr/local/lib/python3.10/dist-packages (from aiohttp<4.0.0,>=3.8.3->langchain_community) (24.2.0)\n",
            "Requirement already satisfied: frozenlist>=1.1.1 in /usr/local/lib/python3.10/dist-packages (from aiohttp<4.0.0,>=3.8.3->langchain_community) (1.4.1)\n",
            "Requirement already satisfied: multidict<7.0,>=4.5 in /usr/local/lib/python3.10/dist-packages (from aiohttp<4.0.0,>=3.8.3->langchain_community) (6.0.5)\n",
            "Requirement already satisfied: yarl<2.0,>=1.0 in /usr/local/lib/python3.10/dist-packages (from aiohttp<4.0.0,>=3.8.3->langchain_community) (1.9.4)\n",
            "Requirement already satisfied: idna>=2.8 in /usr/local/lib/python3.10/dist-packages (from anyio<5.0,>=3.0->gradio) (3.7)\n",
            "Requirement already satisfied: sniffio>=1.1 in /usr/local/lib/python3.10/dist-packages (from anyio<5.0,>=3.0->gradio) (1.3.1)\n",
            "Requirement already satisfied: exceptiongroup in /usr/local/lib/python3.10/dist-packages (from anyio<5.0,>=3.0->gradio) (1.2.2)\n",
            "Requirement already satisfied: botocore<1.36.0,>=1.35.3 in /usr/local/lib/python3.10/dist-packages (from boto3<2.0.0,>=1.34.0->cohere) (1.35.3)\n",
            "Requirement already satisfied: jmespath<2.0.0,>=0.7.1 in /usr/local/lib/python3.10/dist-packages (from boto3<2.0.0,>=1.34.0->cohere) (1.0.1)\n",
            "Requirement already satisfied: s3transfer<0.11.0,>=0.10.0 in /usr/local/lib/python3.10/dist-packages (from boto3<2.0.0,>=1.34.0->cohere) (0.10.2)\n",
            "Requirement already satisfied: marshmallow<4.0.0,>=3.18.0 in /usr/local/lib/python3.10/dist-packages (from dataclasses-json<0.7,>=0.5.7->langchain_community) (3.22.0)\n",
            "Requirement already satisfied: typing-inspect<1,>=0.4.0 in /usr/local/lib/python3.10/dist-packages (from dataclasses-json<0.7,>=0.5.7->langchain_community) (0.9.0)\n",
            "Requirement already satisfied: certifi in /usr/local/lib/python3.10/dist-packages (from httpx>=0.21.2->cohere) (2024.7.4)\n",
            "Requirement already satisfied: httpcore==1.* in /usr/local/lib/python3.10/dist-packages (from httpx>=0.21.2->cohere) (1.0.5)\n",
            "Requirement already satisfied: h11<0.15,>=0.13 in /usr/local/lib/python3.10/dist-packages (from httpcore==1.*->httpx>=0.21.2->cohere) (0.14.0)\n",
            "Requirement already satisfied: filelock in /usr/local/lib/python3.10/dist-packages (from huggingface-hub>=0.19.3->gradio) (3.15.4)\n",
            "Requirement already satisfied: tqdm>=4.42.1 in /usr/local/lib/python3.10/dist-packages (from huggingface-hub>=0.19.3->gradio) (4.66.5)\n",
            "Requirement already satisfied: jsonpatch<2.0,>=1.33 in /usr/local/lib/python3.10/dist-packages (from langchain-core<0.3.0,>=0.2.30->langchain_community) (1.33)\n",
            "Requirement already satisfied: contourpy>=1.0.1 in /usr/local/lib/python3.10/dist-packages (from matplotlib~=3.0->gradio) (1.2.1)\n",
            "Requirement already satisfied: cycler>=0.10 in /usr/local/lib/python3.10/dist-packages (from matplotlib~=3.0->gradio) (0.12.1)\n",
            "Requirement already satisfied: fonttools>=4.22.0 in /usr/local/lib/python3.10/dist-packages (from matplotlib~=3.0->gradio) (4.53.1)\n",
            "Requirement already satisfied: kiwisolver>=1.0.1 in /usr/local/lib/python3.10/dist-packages (from matplotlib~=3.0->gradio) (1.4.5)\n",
            "Requirement already satisfied: pyparsing>=2.3.1 in /usr/local/lib/python3.10/dist-packages (from matplotlib~=3.0->gradio) (3.1.2)\n",
            "Requirement already satisfied: python-dateutil>=2.7 in /usr/local/lib/python3.10/dist-packages (from matplotlib~=3.0->gradio) (2.8.2)\n",
            "Requirement already satisfied: pytz>=2020.1 in /usr/local/lib/python3.10/dist-packages (from pandas<3.0,>=1.0->gradio) (2024.1)\n",
            "Requirement already satisfied: tzdata>=2022.1 in /usr/local/lib/python3.10/dist-packages (from pandas<3.0,>=1.0->gradio) (2024.1)\n",
            "Requirement already satisfied: annotated-types>=0.4.0 in /usr/local/lib/python3.10/dist-packages (from pydantic>=1.9.2->cohere) (0.7.0)\n",
            "Requirement already satisfied: charset-normalizer<4,>=2 in /usr/local/lib/python3.10/dist-packages (from requests<3.0.0,>=2.0.0->cohere) (3.3.2)\n",
            "Requirement already satisfied: greenlet!=0.4.17 in /usr/local/lib/python3.10/dist-packages (from SQLAlchemy<3,>=1.4->langchain_community) (3.0.3)\n",
            "Requirement already satisfied: click>=8.0.0 in /usr/local/lib/python3.10/dist-packages (from typer<1.0,>=0.12->gradio) (8.1.7)\n",
            "Requirement already satisfied: shellingham>=1.3.0 in /usr/local/lib/python3.10/dist-packages (from typer<1.0,>=0.12->gradio) (1.5.4)\n",
            "Requirement already satisfied: rich>=10.11.0 in /usr/local/lib/python3.10/dist-packages (from typer<1.0,>=0.12->gradio) (13.7.1)\n",
            "Requirement already satisfied: starlette<0.39.0,>=0.37.2 in /usr/local/lib/python3.10/dist-packages (from fastapi->gradio) (0.38.2)\n",
            "Requirement already satisfied: jsonpointer>=1.9 in /usr/local/lib/python3.10/dist-packages (from jsonpatch<2.0,>=1.33->langchain-core<0.3.0,>=0.2.30->langchain_community) (3.0.0)\n",
            "Requirement already satisfied: six>=1.5 in /usr/local/lib/python3.10/dist-packages (from python-dateutil>=2.7->matplotlib~=3.0->gradio) (1.16.0)\n",
            "Requirement already satisfied: markdown-it-py>=2.2.0 in /usr/local/lib/python3.10/dist-packages (from rich>=10.11.0->typer<1.0,>=0.12->gradio) (3.0.0)\n",
            "Requirement already satisfied: pygments<3.0.0,>=2.13.0 in /usr/local/lib/python3.10/dist-packages (from rich>=10.11.0->typer<1.0,>=0.12->gradio) (2.16.1)\n",
            "Requirement already satisfied: mypy-extensions>=0.3.0 in /usr/local/lib/python3.10/dist-packages (from typing-inspect<1,>=0.4.0->dataclasses-json<0.7,>=0.5.7->langchain_community) (1.0.0)\n",
            "Requirement already satisfied: mdurl~=0.1 in /usr/local/lib/python3.10/dist-packages (from markdown-it-py>=2.2.0->rich>=10.11.0->typer<1.0,>=0.12->gradio) (0.1.2)\n"
          ]
        }
      ],
      "source": [
        "!pip install cohere gradio PyMuPDF langchain_community hnswlib pypdf langchain"
      ]
    },
    {
      "cell_type": "code",
      "execution_count": null,
      "metadata": {
        "id": "0L4l0139yzTL"
      },
      "outputs": [],
      "source": [
        "import cohere\n",
        "import gradio as gr\n",
        "import fitz  # PyMuPDF\n",
        "import os\n",
        "import hnswlib\n",
        "from langchain_community.document_loaders import PyPDFLoader\n",
        "from langchain.schema import Document\n",
        "from langchain.text_splitter import RecursiveCharacterTextSplitter\n",
        "from cohere import ChatMessage\n"
      ]
    },
    {
      "cell_type": "markdown",
      "metadata": {
        "id": "lT79ELrcYZcH"
      },
      "source": [
        "**Initializing Cohere Key**"
      ]
    },
    {
      "cell_type": "code",
      "execution_count": null,
      "metadata": {
        "id": "NzTmmZYgYfLH"
      },
      "outputs": [],
      "source": [
        "# Initialize Cohere client\n",
        "co = cohere.Client(\"xhZlPSrYzH1FvIq0ZEaGhPjoNWK8LSzAy7Magodp\")"
      ]
    },
    {
      "cell_type": "markdown",
      "metadata": {
        "id": "My9e0qXeYhho"
      },
      "source": [
        "**Loading Pdf Files**"
      ]
    },
    {
      "cell_type": "code",
      "execution_count": null,
      "metadata": {
        "id": "OSBS1sLt10Oe"
      },
      "outputs": [],
      "source": [
        "def load_pdfs(pdf_directory):\n",
        "    texts = []\n",
        "    for filename in os.listdir(pdf_directory):\n",
        "        if filename.endswith('.pdf'):\n",
        "            filepath = os.path.join(pdf_directory, filename)\n",
        "            with fitz.open(filepath) as pdf:\n",
        "                text = \"\"\n",
        "                for page in pdf:\n",
        "                    text += page.get_text()\n",
        "                texts.append(text)\n",
        "    return texts\n",
        "\n",
        "pdf_texts = load_pdfs('/content/') ### Replace the address of your directory."
      ]
    },
    {
      "cell_type": "markdown",
      "metadata": {
        "id": "y81BYVtuYn5-"
      },
      "source": [
        "**Chunking the documents**"
      ]
    },
    {
      "cell_type": "code",
      "execution_count": null,
      "metadata": {
        "colab": {
          "base_uri": "https://localhost:8080/"
        },
        "id": "adBH-K-67arp",
        "outputId": "e0a43c4c-5358-4372-b4b1-55a21e951b87"
      },
      "outputs": [
        {
          "data": {
            "text/plain": [
              "2325"
            ]
          },
          "execution_count": 14,
          "metadata": {},
          "output_type": "execute_result"
        }
      ],
      "source": [
        "def split_texts(texts, chunk_size=1000, overlap=20):\n",
        "    splitter = RecursiveCharacterTextSplitter(chunk_size=chunk_size, chunk_overlap=overlap)\n",
        "    documents = [Document(page_content=text, metadata={\"source\": f\"Document_{i}\"}) for i, text in enumerate(texts)]\n",
        "    chunks = splitter.split_documents(documents)\n",
        "    return [chunk.page_content for chunk in chunks]\n",
        "\n",
        "pdf_chunks = split_texts(pdf_texts)\n",
        "len(pdf_chunks)"
      ]
    },
    {
      "cell_type": "markdown",
      "metadata": {
        "id": "F281AhWWYwab"
      },
      "source": [
        "**Create embeddings for the chunks**"
      ]
    },
    {
      "cell_type": "code",
      "execution_count": null,
      "metadata": {
        "id": "L1nRLXPZ7eVg"
      },
      "outputs": [],
      "source": [
        "def embed_texts(texts):\n",
        "    embeddings = co.embed(texts=texts, model='embed-english-v3.0',input_type=\"search_document\").embeddings\n",
        "    return embeddings\n",
        "\n",
        "pdf_embeddings = embed_texts(pdf_chunks)"
      ]
    },
    {
      "cell_type": "markdown",
      "metadata": {
        "id": "KsCmpFO3Y3aV"
      },
      "source": [
        "**Store the embedded chunks in a vector storage**"
      ]
    },
    {
      "cell_type": "code",
      "execution_count": null,
      "metadata": {
        "id": "1DyWwe2a7lo6"
      },
      "outputs": [],
      "source": [
        "# Ensure the dimensionality is correct\n",
        "embedding_dimension = len(pdf_embeddings[0])\n",
        "\n",
        "# Initialize HNSW index with the correct dimension\n",
        "idx = hnswlib.Index(space=\"cosine\", dim=embedding_dimension)\n",
        "idx.init_index(max_elements=len(pdf_chunks), ef_construction=512, M=64)\n",
        "\n",
        "# Add items to the index\n",
        "idx.add_items(pdf_embeddings, list(range(len(pdf_embeddings))))\n",
        "\n",
        "# Save the index\n",
        "idx.save_index(\"pdf_index.bin\")\n",
        "\n",
        "# To load the index\n",
        "# loaded_idx = hnswlib.Index(space=\"ip\", dim=1024)\n",
        "# loaded_idx.load_index(\"pdf_index.bin\", max_elements=len(pdf_chunks))\n"
      ]
    },
    {
      "cell_type": "markdown",
      "metadata": {
        "id": "a9Lx0gxtZCYx"
      },
      "source": [
        "**Method to retrieve from the vector storage and then rerank those retrieved chunks**"
      ]
    },
    {
      "cell_type": "code",
      "execution_count": null,
      "metadata": {
        "id": "mAvpvIj37rCf"
      },
      "outputs": [],
      "source": [
        "def retrieve_and_rerank(query, n=10, k=5):\n",
        "    query_emb = co.embed(texts=[query], model=\"embed-english-v3.0\", input_type=\"search_query\").embeddings[0]\n",
        "    relevant_doc_ids = idx.knn_query(query_emb, k=n)[0][0]\n",
        "    docs_to_rerank = [pdf_chunks[doc_id] for doc_id in relevant_doc_ids]\n",
        "\n",
        "    rerank_results = co.rerank(\n",
        "        query=query,\n",
        "        documents=docs_to_rerank,\n",
        "        top_n=k,\n",
        "        model=\"rerank-english-v3.0\",\n",
        "        return_documents=True\n",
        "    )\n",
        "\n",
        "    texts = [item.document.text for item in rerank_results.results]\n",
        "    reranked_documents = [{\"title\": f\"Document {i+1}\", \"description\": doc} for i, doc in enumerate(texts)]\n",
        "    return reranked_documents\n"
      ]
    },
    {
      "cell_type": "markdown",
      "metadata": {
        "id": "VVWXqvIGZLmS"
      },
      "source": [
        "**The gradio interface**"
      ]
    },
    {
      "cell_type": "code",
      "execution_count": null,
      "metadata": {
        "colab": {
          "background_save": true,
          "base_uri": "https://localhost:8080/",
          "height": 958
        },
        "id": "d1pBkAuGQJom",
        "outputId": "d70a2774-4f7c-4f97-a96b-9055ca07f81a"
      },
      "outputs": [
        {
          "name": "stdout",
          "output_type": "stream",
          "text": [
            "Setting queue=True in a Colab notebook requires sharing enabled. Setting `share=True` (you can turn this off by setting `share=False` in `launch()` explicitly).\n",
            "\n",
            "Colab notebook detected. This cell will run indefinitely so that you can see errors and logs. To turn off, set debug=False in launch().\n",
            "Running on public URL: https://ce3c7d7575426acd91.gradio.live\n",
            "\n",
            "This share link expires in 72 hours. For free permanent hosting and GPU upgrades, run `gradio deploy` from Terminal to deploy to Spaces (https://huggingface.co/spaces)\n"
          ]
        },
        {
          "data": {
            "text/html": [
              "<div><iframe src=\"https://ce3c7d7575426acd91.gradio.live\" width=\"100%\" height=\"500\" allow=\"autoplay; camera; microphone; clipboard-read; clipboard-write;\" frameborder=\"0\" allowfullscreen></iframe></div>"
            ],
            "text/plain": [
              "<IPython.core.display.HTML object>"
            ]
          },
          "metadata": {},
          "output_type": "display_data"
        },
        {
          "name": "stdout",
          "output_type": "stream",
          "text": [
            "\n",
            "Chatbot:\n",
            "Hello! I am an expert assistant with a great knowledge of UNICA services. How can I help you today?Retrieving information...\n",
            "Chatbot:\n",
            "I don't have a clear definition of what UNICA is, but I can tell you that UNICA is a platform that supports UTF-8 as the default character set encoding, which allows users to enter data in any language. UNICA applications must be deployed on a dedicated Java™ virtual machine (JVM) and products customize the JVM that is used by the web application server. UNICA can be integrated with Windows™ Active Directory or another LDAP (Lightweight Directory Access Protocol) server.\n",
            "\n",
            "CITATIONS:\n",
            "start=85 end=93 text='platform' document_ids=['doc_0']\n",
            "start=99 end=151 text='supports UTF-8 as the default character set encoding' document_ids=['doc_0']\n",
            "start=159 end=202 text='allows users to enter data in any language.' document_ids=['doc_0']\n",
            "start=209 end=281 text='applications must be deployed on a dedicated Java™ virtual machine (JVM)' document_ids=['doc_1']\n",
            "start=286 end=356 text='products customize the JVM that is used by the web application server.' document_ids=['doc_1']\n",
            "start=370 end=475 text='integrated with Windows™ Active Directory or another LDAP (Lightweight Directory Access Protocol) server.' document_ids=['doc_4']\n",
            "\n",
            "CITED DOCUMENTS:\n",
            "{'description': 'applications.\\nUnica Platform \\n supports UTF-8 as the default character set encoding, which allows users to enter data in any language (for \\nexample Chinese or Japanese). However, note that full support for any character set in Unica Platform also depends on the \\nconfiguration of the following:\\n• Unica Platform system table database\\n• The client machines and browsers used to access Unica.\\nThe common user interface\\nUnica Platform \\n provides a common access point and user interface for Unica \\n applications.\\nThe common interface provides the following features.\\n• When multiple Unica products are installed, you can navigate between products without launching new windows.\\n• You can view a listing of the pages that you have recently visited, and navigate back to any of those pages using the \\nRecent \\n menu.\\n• You can set an Unica \\n page as a home page (the first page you see when you log in) and you can return to that page at \\nany time by clicking the Home icon.', 'id': 'doc_0', 'title': 'Document 1'}\n",
            "{'description': 'Unica \\n applications within a suite must be deployed on a dedicated Java™ virtual machine (JVM). Unica \\n products customize \\nthe JVM that is used by the web application server. If you encounter errors that are related to the JVM, you must create an \\nOracle WebLogic or WebSphere®a WebSphere® \\n domain that is dedicated to the Unica \\n products.\\nKnowledge requirements\\nTo install Unica \\n products, you must have a thorough knowledge of the environment in which the products are installed. This \\nknowledge includes knowledge about operating systems, databases, and web application servers.\\nInternet browser settings\\nMake sure that your internet browser complies with the following settings:\\n• The browser must not cache web pages.\\n• The browser must not block pop-up windows.\\nAccess permissions\\nVerify that you have the following network permissions to complete the installation tasks:\\n• Administration access for all necessary databases\\nNote:', 'id': 'doc_1', 'title': 'Document 2'}\n",
            "{'description': 'http://WebSphere_host:Port/proxy, and restart the Unica Platform \\n web application.\\nIntegration between Unica \\n and Windows™ \\n Active Directory\\nUnica Platform \\n can be configured to integrate with Windows™ Active Directory server or another LDAP (Lightweight Directory \\nAccess Protocol) server. By integrating Unica with a directory server, you can maintain users and groups in one centralized \\nlocation. Integration provides a flexible model for extending the enterprise authorization policies into Unica applications. \\nIntegration reduces support costs and the time needed to deploy an application in production.\\nSee the Recommended Software Environments and Minimum System Requirements \\n document for a list of supported \\ndirectory servers.\\nActive Directory integration features\\nUnica Platform \\n integration with Windows™ Active Directory provides the features described in this section.\\nChapter 1. Administrator Guide\\nAuthentication with Active Directory integration\\nUnica', 'id': 'doc_4', 'title': 'Document 5'}\n"
          ]
        }
      ],
      "source": [
        "import gradio as gr\n",
        "\n",
        "global_chat_history = []\n",
        "preamble = \"You are an expert assistant having a great knowledge of UNICA services\"\n",
        "\n",
        "def run_chatbot(message):\n",
        "    response = co.chat(message=message, model=\"command-r-plus\", search_queries_only=True, chat_history=global_chat_history)\n",
        "\n",
        "    search_queries = [query.text for query in response.search_queries]\n",
        "\n",
        "    if search_queries:\n",
        "        print(\"Retrieving information...\", end=\"\")\n",
        "        documents = []\n",
        "        for query in search_queries:\n",
        "            documents.extend(retrieve_and_rerank(query, 10, 5))\n",
        "\n",
        "        response = co.chat_stream(\n",
        "            message=message,\n",
        "            model=\"command-r-plus\",\n",
        "            documents=documents,\n",
        "            preamble=preamble,\n",
        "            chat_history=global_chat_history,\n",
        "        )\n",
        "    else:\n",
        "        response = co.chat_stream(\n",
        "            message=message,\n",
        "            model=\"command-r-plus\",\n",
        "            preamble=preamble,\n",
        "            chat_history=global_chat_history,\n",
        "        )\n",
        "\n",
        "    chatbot_response = \"\"\n",
        "    citations = []\n",
        "    print(\"\\nChatbot:\")\n",
        "\n",
        "    for event in response:\n",
        "        if event.event_type == \"text-generation\":\n",
        "            print(event.text, end=\"\")\n",
        "            chatbot_response += event.text\n",
        "        if event.event_type == \"stream-end\":\n",
        "            if event.response.citations:\n",
        "                citations = event.response.citations\n",
        "                print(\"\\n\\nCITATIONS:\")\n",
        "                for citation in event.response.citations:\n",
        "                    print(citation)\n",
        "            if event.response.documents:\n",
        "                print(\"\\nCITED DOCUMENTS:\")\n",
        "                for document in event.response.documents:\n",
        "                    print(document)\n",
        "\n",
        "    # Add to chat history\n",
        "    global_chat_history.extend(\n",
        "        [ChatMessage(role=\"USER\", message=message),\n",
        "         ChatMessage(role=\"CHATBOT\", message=chatbot_response)])\n",
        "\n",
        "    return chatbot_response, citations\n",
        "\n",
        "def gradio_chat(query):\n",
        "    if query.lower() == \"quit\":\n",
        "        global global_chat_history\n",
        "        global_chat_history = []  # Clear chat history\n",
        "        return \"\", \"\", gr.HTML(\"<h1 style='text-align: center; margin-top: 20%;'>Chat has been closed all the chat history has been deleted.</h1>\")\n",
        "\n",
        "    chatbot_response, citations = run_chatbot(query)\n",
        "\n",
        "    # Extract citations if available\n",
        "    if citations:\n",
        "        citations_text = \"\\n\\nCITATIONS:\\n\" + \"\\n\".join([f\"{citation.text} (from {citation.document_ids})\" for citation in citations])\n",
        "    else:\n",
        "        citations_text = \"Not applicable\"\n",
        "\n",
        "    return chatbot_response, citations_text, \"\"\n",
        "\n",
        "# Create a custom HTML component for the note\n",
        "note_html = \"<p style='text-align: center; color: gray;'>Type <strong>'quit'</strong> to end the chat.</p>\"\n",
        "\n",
        "interface = gr.Interface(\n",
        "    fn=gradio_chat,\n",
        "    inputs=gr.Textbox(label=\"User Query\"),\n",
        "    outputs=[\n",
        "        gr.Textbox(label=\"Response\"),\n",
        "        gr.Textbox(label=\"Citations\"),\n",
        "        gr.HTML()\n",
        "    ],\n",
        "    title=\"UNICA Chatbot\",\n",
        "    description=note_html\n",
        ")\n",
        "interface.launch(debug=True)\n"
      ]
    },
    {
      "cell_type": "code",
      "execution_count": null,
      "metadata": {
        "id": "yu1dS6DeVLep"
      },
      "outputs": [],
      "source": []
    }
  ],
  "metadata": {
    "colab": {
      "provenance": []
    },
    "kernelspec": {
      "display_name": "Python 3",
      "name": "python3"
    },
    "language_info": {
      "name": "python"
    }
  },
  "nbformat": 4,
  "nbformat_minor": 0
}